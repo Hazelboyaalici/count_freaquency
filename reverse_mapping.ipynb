{
  "nbformat": 4,
  "nbformat_minor": 0,
  "metadata": {
    "colab": {
      "provenance": [],
      "authorship_tag": "ABX9TyM93UZFN5HcbA5q8nKd2kUd",
      "include_colab_link": true
    },
    "kernelspec": {
      "name": "python3",
      "display_name": "Python 3"
    },
    "language_info": {
      "name": "python"
    }
  },
  "cells": [
    {
      "cell_type": "markdown",
      "metadata": {
        "id": "view-in-github",
        "colab_type": "text"
      },
      "source": [
        "<a href=\"https://colab.research.google.com/github/Hazelboyaalici/count_freaquency/blob/main/reverse_mapping.ipynb\" target=\"_parent\"><img src=\"https://colab.research.google.com/assets/colab-badge.svg\" alt=\"Open In Colab\"/></a>"
      ]
    },
    {
      "cell_type": "code",
      "execution_count": 5,
      "metadata": {
        "colab": {
          "base_uri": "https://localhost:8080/"
        },
        "id": "DyLra7j94S76",
        "outputId": "b455cfc4-9e70-4384-c6b7-71a65c7eae3d"
      },
      "outputs": [
        {
          "output_type": "stream",
          "name": "stdout",
          "text": [
            "{1: ['ali', 'hazel'], 2: ['veli'], 3: ['ayşe']}\n"
          ]
        }
      ],
      "source": [
        "def reverse_mapping(input):\n",
        "  output={}\n",
        "  for names, values in input.items():\n",
        "    if values not in output:\n",
        "      output[values]=[]\n",
        "    output[values].append(names)\n",
        "  return output\n",
        "\n",
        "\n",
        "input={\"ali\": 1, \"veli\": 2, \"ayşe\":3,\"hazel\":1}\n",
        "print(reverse_mapping(input))"
      ]
    },
    {
      "cell_type": "code",
      "source": [],
      "metadata": {
        "id": "-kFx1rW15PTZ"
      },
      "execution_count": null,
      "outputs": []
    }
  ]
}