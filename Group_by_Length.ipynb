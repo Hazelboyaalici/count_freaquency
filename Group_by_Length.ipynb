{
  "nbformat": 4,
  "nbformat_minor": 0,
  "metadata": {
    "colab": {
      "provenance": [],
      "authorship_tag": "ABX9TyPERYXp7sbMtnNIabs0Oq2Z",
      "include_colab_link": true
    },
    "kernelspec": {
      "name": "python3",
      "display_name": "Python 3"
    },
    "language_info": {
      "name": "python"
    }
  },
  "cells": [
    {
      "cell_type": "markdown",
      "metadata": {
        "id": "view-in-github",
        "colab_type": "text"
      },
      "source": [
        "<a href=\"https://colab.research.google.com/github/Hazelboyaalici/count_freaquency/blob/main/Group_by_Length.ipynb\" target=\"_parent\"><img src=\"https://colab.research.google.com/assets/colab-badge.svg\" alt=\"Open In Colab\"/></a>"
      ]
    },
    {
      "cell_type": "code",
      "execution_count": 4,
      "metadata": {
        "colab": {
          "base_uri": "https://localhost:8080/"
        },
        "id": "4XuSWP0pxtbY",
        "outputId": "513fe48c-227f-4048-ef77-43fcf1d620e2"
      },
      "outputs": [
        {
          "output_type": "stream",
          "name": "stdout",
          "text": [
            "{2: ['hi', 'ok'], 3: ['cat', 'dog', 'see'], 5: ['hazel']}\n"
          ]
        }
      ],
      "source": [
        "def group_by_length(word_list):\n",
        "  length_list={}\n",
        "\n",
        "  for words in word_list:\n",
        "    length=len(words)\n",
        "\n",
        "    if length not in length_list:\n",
        "      length_list[length]=[]\n",
        "    length_list[length].append(words)\n",
        "\n",
        "\n",
        "\n",
        "  return length_list\n",
        "\n",
        "\n",
        "\n",
        "word_list=[\"hi\", \"cat\", \"dog\", \"ok\", \"see\",\"hazel\"]\n",
        "print(group_by_length(word_list))"
      ]
    },
    {
      "cell_type": "code",
      "source": [],
      "metadata": {
        "id": "JPaeQsdX1XmL"
      },
      "execution_count": null,
      "outputs": []
    }
  ]
}