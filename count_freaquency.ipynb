{
  "nbformat": 4,
  "nbformat_minor": 0,
  "metadata": {
    "colab": {
      "provenance": [],
      "toc_visible": true
    },
    "kernelspec": {
      "name": "python3",
      "display_name": "Python 3"
    },
    "language_info": {
      "name": "python"
    }
  },
  "cells": [
    {
      "cell_type": "code",
      "execution_count": 4,
      "metadata": {
        "colab": {
          "base_uri": "https://localhost:8080/"
        },
        "id": "WL2cnwYToyzR",
        "outputId": "f95b2fcb-fbc6-41b1-cb47-876766ea4729"
      },
      "outputs": [
        {
          "output_type": "stream",
          "name": "stdout",
          "text": [
            "{1: 2, 3: 1, 2: 3}\n"
          ]
        }
      ],
      "source": [
        "def count_freaquency(nums):\n",
        "  freq={}\n",
        "  for num in nums:\n",
        "    freq[num]= freq.get(num,0) +1\n",
        "  return freq\n",
        "\n",
        "\n",
        "nums=[1,3,2,2,1,2]\n",
        "result=count_freaquency(nums)\n",
        "print(result)\n"
      ]
    },
    {
      "cell_type": "code",
      "source": [],
      "metadata": {
        "id": "-HAnFhJ0pGuY"
      },
      "execution_count": null,
      "outputs": []
    }
  ]
}