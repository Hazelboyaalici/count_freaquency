{
  "nbformat": 4,
  "nbformat_minor": 0,
  "metadata": {
    "colab": {
      "provenance": [],
      "authorship_tag": "ABX9TyN8zU3lVPU/tffpY1XadllF"
    },
    "kernelspec": {
      "name": "python3",
      "display_name": "Python 3"
    },
    "language_info": {
      "name": "python"
    }
  },
  "cells": [
    {
      "cell_type": "code",
      "execution_count": 23,
      "metadata": {
        "colab": {
          "base_uri": "https://localhost:8080/"
        },
        "id": "qMvXj3e-s3rg",
        "outputId": "b18e1d45-75ec-4c4f-efa2-5c305c7034e2"
      },
      "outputs": [
        {
          "output_type": "stream",
          "name": "stdout",
          "text": [
            "{1: [0, 1], 2: [2, 3], 3: [4, 5], 4: [6, 7]}\n",
            "{1: [0, 1], 2: [2, 3], 3: [4, 5], 4: [6, 7]}\n"
          ]
        }
      ],
      "source": [
        "#index is mapped y yourself\n",
        "def map_index(nums):\n",
        "  index_map={}\n",
        "  i =0\n",
        "\n",
        "  for num in nums:\n",
        "    if num not in index_map:\n",
        "      index_map[num]= []\n",
        "    index_map[num].append(i)\n",
        "    i+=1\n",
        "  return index_map\n",
        "nums=[1,1,2,2,3,3,4,4]\n",
        "print(map_index(nums))\n",
        "\n",
        "\n",
        "# using enumarate\n",
        "def map_index2(nums):\n",
        "  index_map2={}\n",
        "\n",
        "  for i,num in enumerate(nums):\n",
        "     if num not in index_map2:\n",
        "      index_map2[num]= []\n",
        "     index_map2[num].append(i)\n",
        "\n",
        "  return index_map2\n",
        "\n",
        "# nums=[1,1,2,2,3,3,4,4]\n",
        "print(map_index2(nums))"
      ]
    },
    {
      "cell_type": "code",
      "source": [
        ""
      ],
      "metadata": {
        "id": "RBLlCDaRtt_W"
      },
      "execution_count": null,
      "outputs": []
    }
  ]
}