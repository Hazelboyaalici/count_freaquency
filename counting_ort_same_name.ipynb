{
  "nbformat": 4,
  "nbformat_minor": 0,
  "metadata": {
    "colab": {
      "provenance": [],
      "authorship_tag": "ABX9TyOmzf9jTah/DdeVoSr/9qm2",
      "include_colab_link": true
    },
    "kernelspec": {
      "name": "python3",
      "display_name": "Python 3"
    },
    "language_info": {
      "name": "python"
    }
  },
  "cells": [
    {
      "cell_type": "markdown",
      "metadata": {
        "id": "view-in-github",
        "colab_type": "text"
      },
      "source": [
        "<a href=\"https://colab.research.google.com/github/Hazelboyaalici/count_freaquency/blob/main/counting_ort_same_name.ipynb\" target=\"_parent\"><img src=\"https://colab.research.google.com/assets/colab-badge.svg\" alt=\"Open In Colab\"/></a>"
      ]
    },
    {
      "cell_type": "code",
      "execution_count": null,
      "metadata": {
        "colab": {
          "base_uri": "https://localhost:8080/"
        },
        "id": "G8Re4cD4gsLS",
        "outputId": "dfe18af6-80ae-4c4a-db76-44bb24926d6b"
      },
      "outputs": [
        {
          "output_type": "stream",
          "name": "stdout",
          "text": [
            "{'ali': 90.0, 'veli': 70.0}\n"
          ]
        }
      ],
      "source": [
        "def ort(liste):\n",
        "  isim_notlar={}\n",
        "\n",
        "  for isim, notlar in liste:\n",
        "    if isim not in isim_notlar:\n",
        "      isim_notlar[isim]=[]\n",
        "    isim_notlar[isim].append(notlar)\n",
        "\n",
        "  ort_notlar={}\n",
        "  for isim,notlar in isim_notlar.items():\n",
        "\n",
        "    ort_notlar[isim]= sum(notlar)/ len(notlar)\n",
        "\n",
        "\n",
        "\n",
        "\n",
        "\n",
        "  return ort_notlar\n",
        "\n",
        "\n",
        "liste=[(\"ali\", 80), (\"veli\", 70),(\"ali\",100)]\n",
        "print(ort(liste))"
      ]
    },
    {
      "cell_type": "code",
      "source": [],
      "metadata": {
        "id": "R7ynXw3KhCh4"
      },
      "execution_count": null,
      "outputs": []
    }
  ]
}